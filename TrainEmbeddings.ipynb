{
 "cells": [
  {
   "cell_type": "markdown",
   "metadata": {},
   "source": [
    "# Generating Defect Corpus"
   ]
  },
  {
   "cell_type": "code",
   "execution_count": 1,
   "metadata": {},
   "outputs": [],
   "source": [
    "import pandas as pd\n",
    "import csv\n",
    "\n",
    "df = pd.read_csv('./Annotations/SewerML_Train.csv')\n",
    "\n",
    "Labels = [\"RB\",\"OB\",\"PF\",\"DE\",\"FS\",\"IS\",\"RO\",\"IN\",\"AF\",\"BE\",\"FO\",\"GR\",\"PH\",\"PB\",\"OS\",\"OP\",\"OK\"]\n",
    "file = 'TrainEmbeddings.txt'\n",
    "\n",
    "# Generating Corpus files\n",
    "with open(file, 'a+') as f:\n",
    "    for index, row in df.iterrows():\n",
    "        flag = 0\n",
    "        first = 0\n",
    "        first_word = ''\n",
    "        count = 0\n",
    "        for j in range(17):\n",
    "            if(row[Labels[j]] == 1):\n",
    "                # count += 1\n",
    "                # if(first == 0):\n",
    "                #    first_word = Labels[j]\n",
    "                #    first = 1\n",
    "                f.write(Labels[j]+ ' ')\n",
    "                flag = 1\n",
    "        if(flag):\n",
    "            if(count > 1):\n",
    "                f.write(first_word+'\\n')\n",
    "            else:\n",
    "                f.write('\\n')\n"
   ]
  },
  {
   "cell_type": "code",
   "execution_count": 25,
   "metadata": {},
   "outputs": [
    {
     "name": "stdout",
     "output_type": "stream",
     "text": [
      "tensor([1., 0., 0., 0., 0., 0., 0., 0., 0., 0., 0., 0., 0., 0., 0., 0., 0.])\n",
      "tensor([0., 1., 0., 0., 0., 0., 0., 0., 0., 0., 0., 0., 0., 0., 0., 0., 0.])\n",
      "tensor([0., 0., 1., 0., 0., 0., 0., 0., 0., 0., 0., 0., 0., 0., 0., 0., 0.])\n",
      "tensor([0., 0., 0., 1., 0., 0., 0., 0., 0., 0., 0., 0., 0., 0., 0., 0., 0.])\n",
      "tensor([0., 0., 0., 0., 1., 0., 0., 0., 0., 0., 0., 0., 0., 0., 0., 0., 0.])\n",
      "tensor([0., 0., 0., 0., 0., 1., 0., 0., 0., 0., 0., 0., 0., 0., 0., 0., 0.])\n",
      "tensor([0., 0., 0., 0., 0., 0., 1., 0., 0., 0., 0., 0., 0., 0., 0., 0., 0.])\n",
      "tensor([0., 0., 0., 0., 0., 0., 0., 1., 0., 0., 0., 0., 0., 0., 0., 0., 0.])\n",
      "tensor([0., 0., 0., 0., 0., 0., 0., 0., 1., 0., 0., 0., 0., 0., 0., 0., 0.])\n",
      "tensor([0., 0., 0., 0., 0., 0., 0., 0., 0., 1., 0., 0., 0., 0., 0., 0., 0.])\n",
      "tensor([0., 0., 0., 0., 0., 0., 0., 0., 0., 0., 1., 0., 0., 0., 0., 0., 0.])\n",
      "tensor([0., 0., 0., 0., 0., 0., 0., 0., 0., 0., 0., 1., 0., 0., 0., 0., 0.])\n",
      "tensor([0., 0., 0., 0., 0., 0., 0., 0., 0., 0., 0., 0., 1., 0., 0., 0., 0.])\n",
      "tensor([0., 0., 0., 0., 0., 0., 0., 0., 0., 0., 0., 0., 0., 1., 0., 0., 0.])\n",
      "tensor([0., 0., 0., 0., 0., 0., 0., 0., 0., 0., 0., 0., 0., 0., 1., 0., 0.])\n",
      "tensor([0., 0., 0., 0., 0., 0., 0., 0., 0., 0., 0., 0., 0., 0., 0., 1., 0.])\n",
      "tensor([0., 0., 0., 0., 0., 0., 0., 0., 0., 0., 0., 0., 0., 0., 0., 0., 1.])\n"
     ]
    }
   ],
   "source": [
    "import torch.nn as nn\n",
    "import torch\n",
    "\n",
    "gt = torch.eye(17)\n",
    "\n",
    "for i in range(17):\n",
    "    Labels[i] = gt[i]\n",
    "    print(Labels[i])"
   ]
  },
  {
   "cell_type": "code",
   "execution_count": null,
   "metadata": {},
   "outputs": [],
   "source": [
    "with open('./TrainEmbeddings.txt') as f:\n",
    "    for line in f.readlines():\n",
    "        if(line != '\\n'):\n",
    "            columns = line.strip().split(',')\n",
    "            for i in columns:\n",
    "                print(i + ' ')"
   ]
  },
  {
   "cell_type": "code",
   "execution_count": 80,
   "metadata": {},
   "outputs": [
    {
     "data": {
      "text/plain": [
       "tensor([0., 1., 0., 0., 0., 0., 0., 0., 0., 0., 0., 0., 0., 0., 0., 0., 0.])"
      ]
     },
     "execution_count": 80,
     "metadata": {},
     "output_type": "execute_result"
    }
   ],
   "source": [
    "Labels = [\"RB\",\"OB\",\"PF\",\"DE\",\"FS\",\"IS\",\"RO\",\"IN\",\"AF\",\"BE\",\"FO\",\"GR\",\"PH\",\"PB\",\"OS\",\"OP\",\"OK\"]\n",
    "gt = torch.eye(17)\n",
    "Labels_dict = dict()\n",
    "for i in range(17):\n",
    "    Labels_dict[Labels[i]] = gt[i]\n",
    "Labels_dict['OB']"
   ]
  },
  {
   "cell_type": "markdown",
   "metadata": {},
   "source": [
    "# Embedding Layer"
   ]
  },
  {
   "cell_type": "code",
   "execution_count": 3,
   "metadata": {},
   "outputs": [
    {
     "data": {
      "text/plain": [
       "[('IS', 0.9235206842422485),\n",
       " ('PH', 0.7863043546676636),\n",
       " ('RO', 0.7448086738586426)]"
      ]
     },
     "execution_count": 3,
     "metadata": {},
     "output_type": "execute_result"
    }
   ],
   "source": [
    "from gensim.models import Word2Vec\n",
    "\n",
    "model = Word2Vec(corpus_file='./TrainEmbeddings.txt', vector_size=17, window=2, min_count=1, workers=4)\n",
    "word2vec = model.wv[\"RB\",\"OB\",\"PF\",\"DE\",\"FS\",\"IS\",\"RO\",\"IN\",\"AF\",\"BE\",\"FO\",\"GR\",\"PH\",\"PB\",\"OS\",\"OP\",\"OK\"]\n",
    "\n",
    "vector = model.wv['RO']  # get numpy vector of a word\n",
    "\n",
    "sims = model.wv.most_similar('GR', topn=3)  # get other similar words\n",
    "#GR PH IS RO\n",
    "sims"
   ]
  },
  {
   "cell_type": "markdown",
   "metadata": {},
   "source": [
    "# t-SNE Visualization"
   ]
  },
  {
   "cell_type": "code",
   "execution_count": 8,
   "metadata": {},
   "outputs": [
    {
     "name": "stdout",
     "output_type": "stream",
     "text": [
      "[[ 55.311985    8.304182 ]\n",
      " [-32.74598    48.900238 ]\n",
      " [-63.794453  -14.726625 ]\n",
      " [-65.83676   -73.101906 ]\n",
      " [-12.401024  -58.352512 ]\n",
      " [ -2.4681337  31.753157 ]\n",
      " [ 24.094585   12.350229 ]\n",
      " [ 53.958004   45.85207  ]\n",
      " [ 13.201997  -25.66304  ]\n",
      " [ 54.0965    -36.02133  ]\n",
      " [-23.00954     1.8022405]\n",
      " [ 17.067352   34.33485  ]\n",
      " [  9.736525   62.74321  ]\n",
      " [-13.936595  -26.460644 ]\n",
      " [-67.74291   -45.294537 ]\n",
      " [-90.49188   -44.291943 ]\n",
      " [ 11.331067   90.63498  ]]\n"
     ]
    },
    {
     "data": {
      "image/png": "[encoded data removed]",
      "text/plain": [
       "<Figure size 640x480 with 1 Axes>"
      ]
     },
     "metadata": {},
     "output_type": "display_data"
    }
   ],
   "source": [
    "import numpy as np\n",
    "import matplotlib.pyplot as plt\n",
    "from sklearn.manifold import TSNE\n",
    "from sklearn.preprocessing import StandardScaler \n",
    "\n",
    "diag = np.identity(17)\n",
    " \n",
    "target = np.arange(17)  \n",
    "X_std = StandardScaler().fit_transform(word2vec) \n",
    "t_sne_features = TSNE(n_components=2, learning_rate='auto', init='pca', perplexity=5, random_state=2023).fit_transform(X_std)\n",
    "print(t_sne_features)\n",
    "plt.scatter(x=t_sne_features[:, 0], y=t_sne_features[:, 1], c = target, cmap='jet')\n",
    "plt.xlabel(\"First Principal Component\")\n",
    "plt.ylabel(\"Second Principal Component\")\n",
    "plt.show()\n",
    "\n"
   ]
  }
 ],
 "metadata": {
  "kernelspec": {
   "display_name": "pt39",
   "language": "python",
   "name": "python3"
  },
  "language_info": {
   "codemirror_mode": {
    "name": "ipython",
    "version": 3
   },
   "file_extension": ".py",
   "mimetype": "text/x-python",
   "name": "python",
   "nbconvert_exporter": "python",
   "pygments_lexer": "ipython3",
   "version": "3.9.17"
  }
 },
 "nbformat": 4,
 "nbformat_minor": 2
}
